{
  "nbformat": 4,
  "nbformat_minor": 0,
  "metadata": {
    "colab": {
      "provenance": [],
      "authorship_tag": "ABX9TyO6VqEAXvZI4EN4ezvi/AO6",
      "include_colab_link": true
    },
    "kernelspec": {
      "name": "python3",
      "display_name": "Python 3"
    },
    "language_info": {
      "name": "python"
    }
  },
  "cells": [
    {
      "cell_type": "markdown",
      "metadata": {
        "id": "view-in-github",
        "colab_type": "text"
      },
      "source": [
        "<a href=\"https://colab.research.google.com/github/YagoQPio/minicursopython/blob/main/Untitled0.ipynb\" target=\"_parent\"><img src=\"https://colab.research.google.com/assets/colab-badge.svg\" alt=\"Open In Colab\"/></a>"
      ]
    },
    {
      "cell_type": "code",
      "execution_count": 2,
      "metadata": {
        "colab": {
          "base_uri": "https://localhost:8080/"
        },
        "id": "IvoQbLfyKMZf",
        "outputId": "e3eb29ce-016a-431d-bf67-62168c1a6c29"
      },
      "outputs": [
        {
          "output_type": "execute_result",
          "data": {
            "text/plain": [
              "int"
            ]
          },
          "metadata": {},
          "execution_count": 2
        }
      ],
      "source": [
        "numero_inteiro_1 = 25\n",
        "numero_inteiro_2 = 5\n",
        "type(numero_inteiro_1)\n",
        "type(numero_inteiro_2)"
      ]
    },
    {
      "cell_type": "code",
      "source": [
        "numero_decimal_1 = 25.5\n",
        "type(numero_decimal_1)"
      ],
      "metadata": {
        "id": "4JtCqfMDKRoC"
      },
      "execution_count": 3,
      "outputs": []
    },
    {
      "cell_type": "code",
      "source": [
        "numero_inteiro_1 = 25\n",
        "numero_inteiro_2 = 5\n",
        "div_int =  numero_inteiro_1/numero_inteiro_2\n",
        "print(div_int)"
      ],
      "metadata": {
        "colab": {
          "base_uri": "https://localhost:8080/"
        },
        "id": "-1_QaWFLKmrP",
        "outputId": "4f323aaf-be41-4da0-ccf5-e60cc4fa0d79"
      },
      "execution_count": 5,
      "outputs": [
        {
          "output_type": "stream",
          "name": "stdout",
          "text": [
            "5.0\n"
          ]
        }
      ]
    },
    {
      "cell_type": "code",
      "source": [
        "texto_1 = \"Oi Python!\"\n",
        "type(texto_1)"
      ],
      "metadata": {
        "colab": {
          "base_uri": "https://localhost:8080/"
        },
        "id": "ny-CsYohK-G0",
        "outputId": "019fb91e-f95d-4001-b4f2-820f2caf367f"
      },
      "execution_count": 6,
      "outputs": [
        {
          "output_type": "execute_result",
          "data": {
            "text/plain": [
              "str"
            ]
          },
          "metadata": {},
          "execution_count": 6
        }
      ]
    },
    {
      "cell_type": "code",
      "source": [
        "numero_x = -2\n",
        "if numero_x > 0:\n",
        "  print(\"o número é maior que zero\")\n",
        "else:\n",
        "  print(\"O número é menor ou igual a zero\")\n",
        "  "
      ],
      "metadata": {
        "colab": {
          "base_uri": "https://localhost:8080/"
        },
        "id": "ozxSN0z0LYkQ",
        "outputId": "c207cbe7-8bd1-48f4-95fb-d92c295fd96d"
      },
      "execution_count": 9,
      "outputs": [
        {
          "output_type": "stream",
          "name": "stdout",
          "text": [
            "O número é menor ou igual a zero\n"
          ]
        }
      ]
    },
    {
      "cell_type": "code",
      "source": [
        "nota = 7\n",
        "if nota == 9:\n",
        "  print(\"Parabéns\")\n",
        "elif nota >= 7:\n",
        "  print(\"Você passou\") \n",
        "elif nota < 5:\n",
        "  print(\"Você deve fazer a recuperação\")  \n",
        "elif nota < 0:\n",
        "  print(\"Você foi reprovado!\")\n"
      ],
      "metadata": {
        "colab": {
          "base_uri": "https://localhost:8080/"
        },
        "id": "w7DcqNSeMKlW",
        "outputId": "ba8749d8-6649-43dd-cc67-33955301834c"
      },
      "execution_count": 17,
      "outputs": [
        {
          "output_type": "stream",
          "name": "stdout",
          "text": [
            "Você deve fazer a recuperação\n"
          ]
        }
      ]
    }
  ]
}